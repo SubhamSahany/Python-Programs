{
 "cells": [
  {
   "cell_type": "markdown",
   "id": "e0cdaa9a",
   "metadata": {},
   "source": [
    "### WAP to find nth highest number in a list"
   ]
  },
  {
   "cell_type": "code",
   "execution_count": null,
   "id": "b65c2186",
   "metadata": {},
   "outputs": [],
   "source": [
    "def findhigh(list, n):\n",
    "  highest_list = []\n",
    "  for i in range(n):\n",
    "    high = 0\n",
    "    for j in list:\n",
    "      if j > high:\n",
    "        high = j\n",
    "    highest_list.append(j)\n",
    "    list.remove(j)\n",
    "  return highest_list[n-1] \n",
    "\n",
    "def main():\n",
    "  list = [2,5,8,45,77,98]\n",
    "  result = findhigh(list, 2)\n",
    "  print(result)\n",
    "\n",
    "main()"
   ]
  }
 ],
 "metadata": {
  "kernelspec": {
   "display_name": "Python 3 (ipykernel)",
   "language": "python",
   "name": "python3"
  },
  "language_info": {
   "codemirror_mode": {
    "name": "ipython",
    "version": 3
   },
   "file_extension": ".py",
   "mimetype": "text/x-python",
   "name": "python",
   "nbconvert_exporter": "python",
   "pygments_lexer": "ipython3",
   "version": "3.9.7"
  }
 },
 "nbformat": 4,
 "nbformat_minor": 5
}
