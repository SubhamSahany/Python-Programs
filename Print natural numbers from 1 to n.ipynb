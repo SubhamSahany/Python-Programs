{
 "cells": [
  {
   "cell_type": "markdown",
   "id": "5161e319",
   "metadata": {},
   "source": [
    "### WAP to print natural numbers from 1 to n, n is entered by the user"
   ]
  },
  {
   "cell_type": "code",
   "execution_count": null,
   "id": "c039228e",
   "metadata": {},
   "outputs": [],
   "source": [
    "num = int(input(\"Enter a number:\"))\n",
    "print(\"Natural numbers 1 to\",num)\n",
    "for i in range(1, num+1):\n",
    "    print(i)"
   ]
  }
 ],
 "metadata": {
  "kernelspec": {
   "display_name": "Python 3 (ipykernel)",
   "language": "python",
   "name": "python3"
  },
  "language_info": {
   "codemirror_mode": {
    "name": "ipython",
    "version": 3
   },
   "file_extension": ".py",
   "mimetype": "text/x-python",
   "name": "python",
   "nbconvert_exporter": "python",
   "pygments_lexer": "ipython3",
   "version": "3.9.7"
  }
 },
 "nbformat": 4,
 "nbformat_minor": 5
}
