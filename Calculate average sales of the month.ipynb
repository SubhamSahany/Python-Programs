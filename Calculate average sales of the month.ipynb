{
 "cells": [
  {
   "cell_type": "markdown",
   "id": "e1597885",
   "metadata": {},
   "source": [
    "### WAP to input sales of the month and calculate the average sales of that month"
   ]
  },
  {
   "cell_type": "code",
   "execution_count": null,
   "id": "6eeab2b4",
   "metadata": {},
   "outputs": [],
   "source": [
    "num = int(input(\"Enter the no of sales: \"))\n",
    "total_sum = 0\n",
    "for n in range(num):\n",
    "    numbers = int(input(\"Enter number : \"))\n",
    "    total_sum += numbers\n",
    "avg = total_sum/num\n",
    "print(\"Average of the sales is\", avg)"
   ]
  }
 ],
 "metadata": {
  "kernelspec": {
   "display_name": "Python 3 (ipykernel)",
   "language": "python",
   "name": "python3"
  },
  "language_info": {
   "codemirror_mode": {
    "name": "ipython",
    "version": 3
   },
   "file_extension": ".py",
   "mimetype": "text/x-python",
   "name": "python",
   "nbconvert_exporter": "python",
   "pygments_lexer": "ipython3",
   "version": "3.9.7"
  }
 },
 "nbformat": 4,
 "nbformat_minor": 5
}
