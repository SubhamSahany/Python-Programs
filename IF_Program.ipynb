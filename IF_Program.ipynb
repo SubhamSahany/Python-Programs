{
 "cells": [
  {
   "cell_type": "code",
   "execution_count": null,
   "id": "equipped-lyric",
   "metadata": {},
   "outputs": [],
   "source": [
    "d = {\"name\":\"Guido\", \"age\":43, (\"hello\",\"world\"):1,  42:\"yes\", \"flag\": [\"red\",\"white\",\"blue\"]}"
   ]
  },
  {
   "cell_type": "code",
   "execution_count": null,
   "id": "47884256",
   "metadata": {},
   "outputs": [],
   "source": [
    "print(d[\"flag\"][2][2])"
   ]
  },
  {
   "cell_type": "code",
   "execution_count": null,
   "id": "560ba8f3",
   "metadata": {},
   "outputs": [],
   "source": [
    "print(d.get(\"flagssss\"))"
   ]
  },
  {
   "cell_type": "code",
   "execution_count": null,
   "id": "a9ab4f5c",
   "metadata": {},
   "outputs": [],
   "source": [
    "print(d.values())"
   ]
  },
  {
   "cell_type": "code",
   "execution_count": null,
   "id": "7ce5f345",
   "metadata": {},
   "outputs": [],
   "source": [
    "d = {\"age\":43, (\"hello\",\"world\"):1, \"flag\": [\"red\",\"white\",\"blue\"]}"
   ]
  },
  {
   "cell_type": "code",
   "execution_count": null,
   "id": "61a29866",
   "metadata": {},
   "outputs": [],
   "source": [
    "d['flag'][1][3]"
   ]
  },
  {
   "cell_type": "code",
   "execution_count": null,
   "id": "19202ad6",
   "metadata": {},
   "outputs": [],
   "source": [
    "fruit = 'Banana'\n",
    "fruit[0] = 'b'"
   ]
  },
  {
   "cell_type": "code",
   "execution_count": null,
   "id": "e885ff3c",
   "metadata": {},
   "outputs": [],
   "source": [
    "x = fruit.lower()"
   ]
  },
  {
   "cell_type": "code",
   "execution_count": null,
   "id": "45edc329",
   "metadata": {},
   "outputs": [],
   "source": [
    "id(fruit)"
   ]
  },
  {
   "cell_type": "code",
   "execution_count": null,
   "id": "a9378de6",
   "metadata": {},
   "outputs": [],
   "source": [
    "id(x)"
   ]
  },
  {
   "cell_type": "code",
   "execution_count": null,
   "id": "right-integration",
   "metadata": {},
   "outputs": [],
   "source": [
    "n = 1\n",
    "num= int(input('Enter the Nunber'))\n",
    "while n<= num :\n",
    "    print(n)\n",
    "    n+=1\n"
   ]
  },
  {
   "cell_type": "code",
   "execution_count": null,
   "id": "super-parking",
   "metadata": {},
   "outputs": [],
   "source": [
    "print('Before')\n",
    "for value in [9, 41, 12, 3, 74, 15] :\n",
    "    if value > 20: \n",
    "        print('Large number',value)\n",
    "print('After')\n"
   ]
  },
  {
   "cell_type": "code",
   "execution_count": null,
   "id": "biblical-thesis",
   "metadata": {},
   "outputs": [],
   "source": [
    "smallest = None\n",
    "for value in [9, 41, 12, 3, 74, 15] : \n",
    "     if smallest is None : \n",
    "         smallest = value   \n",
    "     elif value < smallest : \n",
    "         smallest = value   \n",
    "     print(smallest, value)\n",
    "print('After', smallest)\n"
   ]
  },
  {
   "cell_type": "code",
   "execution_count": null,
   "id": "declared-chess",
   "metadata": {},
   "outputs": [],
   "source": [
    "def average(numbers, number):\n",
    "    total = 0\n",
    "    for num in numbers:\n",
    "        total = total + num\n",
    "    avg = total/len(number)\n",
    "    return avg, total\n",
    "def TEST():\n",
    "    prices = [20, 30]\n",
    "    list = [200, 300, 400, 100]\n",
    "    total, avg = average(prices,list)\n",
    "    print(order_goal)\n",
    "    print('avg',avg)\n",
    "    print('total',total)\n",
    "order_goal = 25\n",
    "TEST()"
   ]
  },
  {
   "cell_type": "code",
   "execution_count": null,
   "id": "diverse-jackson",
   "metadata": {},
   "outputs": [],
   "source": [
    "s = 'hi'\n",
    "print(s*3)"
   ]
  },
  {
   "cell_type": "code",
   "execution_count": null,
   "id": "similar-manor",
   "metadata": {},
   "outputs": [],
   "source": [
    "i =1 \n",
    "i+=1\n",
    "i"
   ]
  },
  {
   "cell_type": "code",
   "execution_count": null,
   "id": "broken-particular",
   "metadata": {},
   "outputs": [],
   "source": [
    "a = ['spam', 'eggs', 100, 1234, 2*2]\n",
    "a[-4:4]"
   ]
  },
  {
   "cell_type": "code",
   "execution_count": null,
   "id": "fe24173f",
   "metadata": {},
   "outputs": [],
   "source": [
    "a[2] = a[2] + 23\n",
    "a[0:2] = [1,12]\n",
    "a"
   ]
  },
  {
   "cell_type": "code",
   "execution_count": null,
   "id": "246f0418",
   "metadata": {},
   "outputs": [],
   "source": [
    "a[0] = []\n",
    "len(a)\n",
    "a"
   ]
  },
  {
   "cell_type": "code",
   "execution_count": null,
   "id": "manufactured-speed",
   "metadata": {},
   "outputs": [],
   "source": [
    "my_list = [1, 2, 3, 4] \n",
    "your_list = [4, 3, 2, 1] \n",
    "his_list = [1, 2, 3, 4]\n",
    "print(my_list == your_list) \n",
    "print(my_list == his_list)"
   ]
  },
  {
   "cell_type": "code",
   "execution_count": null,
   "id": "processed-liberty",
   "metadata": {},
   "outputs": [],
   "source": [
    "my_dict = {1:1, 2:2, 3:3, 4:4} \n",
    "your_dict = {4:4, 3:3, 2:2, 1:1}\n",
    "print(my_dict == your_dict)"
   ]
  },
  {
   "cell_type": "code",
   "execution_count": null,
   "id": "vocal-method",
   "metadata": {},
   "outputs": [],
   "source": [
    "for num in [1,2,3,4,5]:\n",
    "    print(num**2)"
   ]
  },
  {
   "cell_type": "code",
   "execution_count": null,
   "id": "vocal-following",
   "metadata": {},
   "outputs": [],
   "source": [
    "for num in 'computer':\n",
    "    print(num)"
   ]
  },
  {
   "cell_type": "code",
   "execution_count": null,
   "id": "posted-johnston",
   "metadata": {},
   "outputs": [],
   "source": [
    "for items in d:\n",
    "    print(items)\n",
    "    #print(key)"
   ]
  },
  {
   "cell_type": "code",
   "execution_count": null,
   "id": "owned-melissa",
   "metadata": {},
   "outputs": [],
   "source": [
    "total = 0\n",
    "prices = [2.50, 3.50, 4.50]\n",
    "for price in prices:\n",
    "    print('Price is', price) \n",
    "    total = total + price\n",
    "print('total is', total)\n",
    "average = total/len(prices) \n",
    "print('avg is', average)"
   ]
  },
  {
   "cell_type": "code",
   "execution_count": null,
   "id": "younger-virgin",
   "metadata": {},
   "outputs": [],
   "source": [
    "import random\n",
    "r1 = random.random() # Gives us a random number from [0.0, 1.0\n",
    "print(r1)\n",
    "r2 = random.choice([1,2,3,4,5]) # Gives us a random choice from a list\n",
    "print(r2)\n",
    "r3 = random.randint(1, 1000) # Gives us a random number in this range\n",
    "print(r3)\n"
   ]
  },
  {
   "cell_type": "code",
   "execution_count": null,
   "id": "unlike-breathing",
   "metadata": {},
   "outputs": [],
   "source": [
    "for keys,items in d.items():\n",
    "    print(items)\n",
    "    print(keys)"
   ]
  },
  {
   "cell_type": "code",
   "execution_count": null,
   "id": "extended-anthropology",
   "metadata": {},
   "outputs": [],
   "source": [
    "a = 1"
   ]
  },
  {
   "cell_type": "code",
   "execution_count": null,
   "id": "noticed-incentive",
   "metadata": {},
   "outputs": [],
   "source": [
    "print(type(a))"
   ]
  },
  {
   "cell_type": "code",
   "execution_count": null,
   "id": "fixed-salem",
   "metadata": {},
   "outputs": [],
   "source": [
    "print(a)"
   ]
  },
  {
   "cell_type": "code",
   "execution_count": null,
   "id": "frequent-sunday",
   "metadata": {},
   "outputs": [],
   "source": [
    "print(id(a))"
   ]
  },
  {
   "cell_type": "code",
   "execution_count": null,
   "id": "molecular-excellence",
   "metadata": {},
   "outputs": [],
   "source": [
    "a = str (a) + ' hello'"
   ]
  },
  {
   "cell_type": "code",
   "execution_count": null,
   "id": "tough-script",
   "metadata": {},
   "outputs": [],
   "source": [
    "print(id(a))"
   ]
  },
  {
   "cell_type": "code",
   "execution_count": null,
   "id": "looking-bunch",
   "metadata": {},
   "outputs": [],
   "source": []
  },
  {
   "cell_type": "code",
   "execution_count": null,
   "id": "commercial-flower",
   "metadata": {},
   "outputs": [],
   "source": [
    "# Python automatically converts\n",
    "# a to int\n",
    "a = 7\n",
    "print(type(a)) \n",
    "# Python automatically converts\n",
    "# b to float\n",
    "b = 3.0\n",
    "print(type(b)) \n",
    "# Python automatically converts\n",
    "# c to float as it is a float addition\n",
    "c = a + b\n",
    "print(c)\n",
    "print(type(c)) \n",
    "# Python automatically converts\n",
    "# d to float as it is a float multiplication\n",
    "d = a * b\n",
    "print(d)\n",
    "print(type(d))"
   ]
  },
  {
   "cell_type": "code",
   "execution_count": null,
   "id": "modern-archive",
   "metadata": {},
   "outputs": [],
   "source": []
  },
  {
   "cell_type": "code",
   "execution_count": null,
   "id": "systematic-moscow",
   "metadata": {},
   "outputs": [],
   "source": [
    "import numpy as np\n",
    "B = np.random.rand(1000000)\n",
    "%timeit sum(B)\n",
    "%timeit np.sum(B)\n"
   ]
  },
  {
   "cell_type": "code",
   "execution_count": null,
   "id": "intimate-middle",
   "metadata": {},
   "outputs": [],
   "source": [
    "\n",
    "%%timeit\n",
    "S=0\n",
    "for x in B:\n",
    "    S = S + x\n",
    "print(S)"
   ]
  },
  {
   "cell_type": "code",
   "execution_count": null,
   "id": "desirable-silence",
   "metadata": {},
   "outputs": [],
   "source": [
    "price = input(\"Enter the price: \")\n",
    "price = float(price) \n",
    "print('Price =', price)\n",
    "print('Not a number!')"
   ]
  },
  {
   "cell_type": "code",
   "execution_count": null,
   "id": "compressed-pacific",
   "metadata": {},
   "outputs": [],
   "source": [
    "price = input(\"Enter the price: \")\n",
    "try:\n",
    "    price = float(price) \n",
    "    print('Price =', price)\n",
    "except ValueError:\n",
    "    print('Not a number!')"
   ]
  },
  {
   "cell_type": "code",
   "execution_count": null,
   "id": "obvious-employee",
   "metadata": {},
   "outputs": [],
   "source": [
    "price = input(\"Enter the price: \")\n",
    "print(type(price))\n",
    "price = int(price) \n",
    "print('Price =', price)\n",
    "print(type(price))"
   ]
  },
  {
   "cell_type": "code",
   "execution_count": null,
   "id": "abandoned-makeup",
   "metadata": {},
   "outputs": [],
   "source": [
    "c = 'hi' + str(10)\n",
    "print(c)"
   ]
  },
  {
   "cell_type": "code",
   "execution_count": null,
   "id": "alternate-latter",
   "metadata": {},
   "outputs": [],
   "source": [
    "type(c)"
   ]
  },
  {
   "cell_type": "code",
   "execution_count": null,
   "id": "featured-student",
   "metadata": {},
   "outputs": [],
   "source": [
    "len(c)"
   ]
  },
  {
   "cell_type": "code",
   "execution_count": null,
   "id": "brave-monroe",
   "metadata": {},
   "outputs": [],
   "source": [
    "import numpy as np\n",
    "B = np.random.rand(1000000)\n",
    "%timeit sum(B)"
   ]
  },
  {
   "cell_type": "code",
   "execution_count": null,
   "id": "quick-nickel",
   "metadata": {},
   "outputs": [],
   "source": [
    "%timeit np.sum(B)"
   ]
  },
  {
   "cell_type": "code",
   "execution_count": null,
   "id": "recent-large",
   "metadata": {},
   "outputs": [],
   "source": [
    "%%timeit\n",
    "S=0\n",
    "for x in B:\n",
    "    S+=x"
   ]
  },
  {
   "cell_type": "code",
   "execution_count": null,
   "id": "intimate-vehicle",
   "metadata": {},
   "outputs": [],
   "source": [
    "a = 33 \n",
    "b = 200 \n",
    "if b > a:\n",
    "    print(\"b is greater than a\")\n",
    "print(a)\n",
    "print(b)"
   ]
  },
  {
   "cell_type": "code",
   "execution_count": null,
   "id": "announced-provider",
   "metadata": {},
   "outputs": [],
   "source": [
    "x,y =12,10 \n",
    "if(x < y): \n",
    "    st= \"x is less than y\" \n",
    "elif (x == y):\n",
    "    st= \"x is same as y\" \n",
    "else: \n",
    "    st=\"x is greater than y\" \n",
    "print(st)\n"
   ]
  },
  {
   "cell_type": "code",
   "execution_count": null,
   "id": "egyptian-harrison",
   "metadata": {},
   "outputs": [],
   "source": [
    "list=[1,2,3,4,5]\n",
    "for i in list:\n",
    "    print(i)\n",
    "    \n",
    "print(i)"
   ]
  },
  {
   "cell_type": "code",
   "execution_count": null,
   "id": "a628464b",
   "metadata": {},
   "outputs": [],
   "source": [
    "newList = list.sort()\n",
    "print(newList)"
   ]
  },
  {
   "cell_type": "code",
   "execution_count": null,
   "id": "e9ce6817",
   "metadata": {},
   "outputs": [],
   "source": [
    "print(list)"
   ]
  },
  {
   "cell_type": "code",
   "execution_count": null,
   "id": "210adbfa",
   "metadata": {},
   "outputs": [],
   "source": [
    "list1 =  sorted(list)\n",
    "print(list1)"
   ]
  },
  {
   "cell_type": "code",
   "execution_count": null,
   "id": "specialized-jaguar",
   "metadata": {},
   "outputs": [],
   "source": [
    "while (i<10) :\n",
    "    print(i)\n",
    "    i = i+1"
   ]
  },
  {
   "cell_type": "code",
   "execution_count": null,
   "id": "sharp-german",
   "metadata": {},
   "outputs": [],
   "source": [
    "range(3,7)"
   ]
  },
  {
   "cell_type": "code",
   "execution_count": null,
   "id": "aboriginal-registrar",
   "metadata": {},
   "outputs": [],
   "source": [
    "li = range(13,7) \n",
    "li"
   ]
  },
  {
   "cell_type": "code",
   "execution_count": null,
   "id": "junior-drove",
   "metadata": {},
   "outputs": [],
   "source": [
    "print(li)"
   ]
  },
  {
   "cell_type": "code",
   "execution_count": null,
   "id": "circular-tourism",
   "metadata": {},
   "outputs": [],
   "source": [
    "for i in range(3,17,4):\n",
    "    print(i)"
   ]
  },
  {
   "cell_type": "code",
   "execution_count": null,
   "id": "animal-philosophy",
   "metadata": {},
   "outputs": [],
   "source": [
    "for i in range(10):\n",
    "    print(i)"
   ]
  },
  {
   "cell_type": "code",
   "execution_count": null,
   "id": "reserved-offset",
   "metadata": {},
   "outputs": [],
   "source": [
    "for i in range(10):\n",
    "    i=i+1\n",
    "    print(i)"
   ]
  },
  {
   "cell_type": "code",
   "execution_count": null,
   "id": "foreign-baptist",
   "metadata": {},
   "outputs": [],
   "source": [
    "li = [1,2,3,4,5,6,7]\n",
    "j = 0\n",
    "for i in li:\n",
    "    print(i)"
   ]
  },
  {
   "cell_type": "code",
   "execution_count": null,
   "id": "structural-subcommittee",
   "metadata": {},
   "outputs": [],
   "source": [
    "print(j)\n",
    "print(type(j))"
   ]
  },
  {
   "cell_type": "code",
   "execution_count": null,
   "id": "cleared-employee",
   "metadata": {},
   "outputs": [],
   "source": [
    "length = len(li)\n",
    "while length >= 3:\n",
    "    print(length)\n",
    "    if length <= 5:\n",
    "        break\n",
    "    length = length - 1        "
   ]
  },
  {
   "cell_type": "code",
   "execution_count": null,
   "id": "leading-slovakia",
   "metadata": {},
   "outputs": [],
   "source": [
    "length = len(li)\n",
    "while length >= 3:    \n",
    "    length = length - 1 \n",
    "    if length <= 5:\n",
    "        continue\n",
    "    print(length)"
   ]
  },
  {
   "cell_type": "code",
   "execution_count": null,
   "id": "sunrise-paragraph",
   "metadata": {},
   "outputs": [],
   "source": [
    "li = [1,2,3,4,5,6,7]\n",
    "j = 0\n",
    "for i in li:\n",
    "    for i in li:\n",
    "        i=i+1\n",
    "        j=j+1\n",
    "    print(j)\n",
    "print(j)"
   ]
  },
  {
   "cell_type": "code",
   "execution_count": null,
   "id": "brilliant-hurricane",
   "metadata": {},
   "outputs": [],
   "source": [
    "x = int(input(\"x? \"))\n",
    "y = int(input(\"y? \"))\n",
    "if x < y: \n",
    "    print('x is less than y') \n",
    "elif x > y: \n",
    "    print('x is greater than y') \n",
    "else: \n",
    "    print('x and y are equal')\n"
   ]
  },
  {
   "cell_type": "code",
   "execution_count": null,
   "id": "strong-beauty",
   "metadata": {},
   "outputs": [],
   "source": [
    "highest = 0\n",
    "for value in [9, 41, 12, 3, 74, 15] :\n",
    "    if value > highest:\n",
    "        highest = value \n",
    "print('highest' , highest)"
   ]
  },
  {
   "cell_type": "code",
   "execution_count": null,
   "id": "random-brooks",
   "metadata": {},
   "outputs": [],
   "source": [
    "list = [9, 41, 12, 3, 74, 15]\n",
    "print(list[4])"
   ]
  },
  {
   "cell_type": "code",
   "execution_count": null,
   "id": "needed-community",
   "metadata": {},
   "outputs": [],
   "source": [
    "list = [9, 41, 12, 3, 74, 15]\n",
    "smallest = list[0]\n",
    "for value in list :\n",
    "    if value < smallest:\n",
    "        smallest = value \n",
    "        \n",
    "print('smallest' , smallest)"
   ]
  },
  {
   "cell_type": "code",
   "execution_count": null,
   "id": "accomplished-twist",
   "metadata": {},
   "outputs": [],
   "source": [
    "smallest = None\n",
    "for value in [9, 41, 12, 3, 74, 15,103,305, 7 , 102.5, 167.44,1] : \n",
    "     if smallest is None : \n",
    "         smallest = value   \n",
    "     elif value < smallest : \n",
    "         smallest = value   \n",
    "     #print(smallest, value)\n",
    "print('After', smallest)"
   ]
  },
  {
   "cell_type": "code",
   "execution_count": null,
   "id": "nearby-diameter",
   "metadata": {},
   "outputs": [],
   "source": [
    "def average(numbers):\n",
    "    total = 0\n",
    "    for num in numbers:\n",
    "        total = total + num\n",
    "    avg = total/len(numbers)\n",
    "    return avg, total\n",
    "def main():\n",
    "    prices = [29, 21, 55, 10, 12,16,190,347,1024, 9403, 125, 341942, 20394, 109236, 3470, 5732, 1293, 10039,5783]\n",
    "    result, tot = average(prices)\n",
    "    print(tot)\n",
    "    print(result)\n",
    "main()"
   ]
  },
  {
   "cell_type": "code",
   "execution_count": null,
   "id": "regular-temperature",
   "metadata": {},
   "outputs": [],
   "source": [
    "# write one generic function to find the nth highest in a list\n",
    "# Assignment"
   ]
  },
  {
   "cell_type": "code",
   "execution_count": null,
   "id": "aboriginal-findings",
   "metadata": {},
   "outputs": [],
   "source": [
    "def main():\n",
    "    prices = [29, 21, 55, 10]\n",
    "    result = average(prices)\n",
    "    print(var1)\n",
    "    print(result)\n",
    "def average(numbers):\n",
    "    total = 0\n",
    "    for num in numbers:\n",
    "        total = total + num\n",
    "    avg = total/len(numbers)\n",
    "    return avg\n",
    "var1 = 25\n",
    "main()"
   ]
  },
  {
   "cell_type": "code",
   "execution_count": null,
   "id": "received-termination",
   "metadata": {},
   "outputs": [],
   "source": [
    "while True :\n",
    "    print('hi')"
   ]
  },
  {
   "cell_type": "code",
   "execution_count": null,
   "id": "spiritual-viking",
   "metadata": {},
   "outputs": [],
   "source": [
    "a = 10\n",
    "while a < 20 :\n",
    "    a += 1\n",
    "    if(a == 15):\n",
    "        continue    \n",
    "    print(a)\n",
    "    "
   ]
  },
  {
   "cell_type": "code",
   "execution_count": null,
   "id": "clear-justice",
   "metadata": {},
   "outputs": [],
   "source": []
  }
 ],
 "metadata": {
  "kernelspec": {
   "display_name": "Python 3 (ipykernel)",
   "language": "python",
   "name": "python3"
  },
  "language_info": {
   "codemirror_mode": {
    "name": "ipython",
    "version": 3
   },
   "file_extension": ".py",
   "mimetype": "text/x-python",
   "name": "python",
   "nbconvert_exporter": "python",
   "pygments_lexer": "ipython3",
   "version": "3.9.7"
  }
 },
 "nbformat": 4,
 "nbformat_minor": 5
}
