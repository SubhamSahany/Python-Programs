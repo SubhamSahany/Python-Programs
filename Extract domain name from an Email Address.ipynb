{
 "cells": [
  {
   "cell_type": "markdown",
   "id": "a24f1703",
   "metadata": {},
   "source": [
    "### WAP to extract domain name from email address"
   ]
  },
  {
   "cell_type": "markdown",
   "id": "9c133e66",
   "metadata": {},
   "source": [
    "#### Method 1 : Using index() + Slicing"
   ]
  },
  {
   "cell_type": "code",
   "execution_count": null,
   "id": "59c9364c",
   "metadata": {},
   "outputs": [],
   "source": [
    "# initializing strings\n",
    "email = 'abc123@gmail.com'\n",
    "  \n",
    "# printing original string\n",
    "print(\"The original string is : \" + str(email))\n",
    "  \n",
    "# slicing domain name using slicing \n",
    "res = email[email.index('@') + 1 : ]\n",
    "  \n",
    "# printing result \n",
    "print(\"The extracted domain name : \" + str(res))"
   ]
  },
  {
   "cell_type": "markdown",
   "id": "00906029",
   "metadata": {},
   "source": [
    "#### Method 2 : Using split()"
   ]
  },
  {
   "cell_type": "code",
   "execution_count": null,
   "id": "b4a92828",
   "metadata": {},
   "outputs": [],
   "source": [
    "# initializing strings\n",
    "email_1 = 'xyz456@gmail.com'\n",
    "  \n",
    "# printing original string\n",
    "print(\"The original string is : \" + str(email_1))\n",
    "  \n",
    "# using split() to get domain name\n",
    "res = email_1.split('@')[1]\n",
    "  \n",
    "# printing result \n",
    "print(\"The extracted domain name : \" + str(res))"
   ]
  }
 ],
 "metadata": {
  "kernelspec": {
   "display_name": "Python 3 (ipykernel)",
   "language": "python",
   "name": "python3"
  },
  "language_info": {
   "codemirror_mode": {
    "name": "ipython",
    "version": 3
   },
   "file_extension": ".py",
   "mimetype": "text/x-python",
   "name": "python",
   "nbconvert_exporter": "python",
   "pygments_lexer": "ipython3",
   "version": "3.9.7"
  }
 },
 "nbformat": 4,
 "nbformat_minor": 5
}
