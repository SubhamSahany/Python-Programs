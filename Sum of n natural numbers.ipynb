{
 "cells": [
  {
   "cell_type": "markdown",
   "id": "8b651897",
   "metadata": {},
   "source": [
    "### WAP to print the sum of n natural numbers, where n is entered by the user"
   ]
  },
  {
   "cell_type": "code",
   "execution_count": null,
   "id": "5a95b5c8",
   "metadata": {},
   "outputs": [],
   "source": [
    "n = int(input(\"Enter a number: \"))\n",
    "sum = 0\n",
    "while(n>0):\n",
    "    sum = sum + n\n",
    "    n = n-1\n",
    "print(\"The sum of n natural numbers is \",sum)  "
   ]
  }
 ],
 "metadata": {
  "kernelspec": {
   "display_name": "Python 3 (ipykernel)",
   "language": "python",
   "name": "python3"
  },
  "language_info": {
   "codemirror_mode": {
    "name": "ipython",
    "version": 3
   },
   "file_extension": ".py",
   "mimetype": "text/x-python",
   "name": "python",
   "nbconvert_exporter": "python",
   "pygments_lexer": "ipython3",
   "version": "3.9.7"
  }
 },
 "nbformat": 4,
 "nbformat_minor": 5
}
